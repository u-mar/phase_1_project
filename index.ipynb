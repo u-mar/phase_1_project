{
 "cells": [
  {
   "cell_type": "markdown",
   "id": "1bb429ae",
   "metadata": {},
   "source": [
    "## BUSINESS UNDERSTANDING"
   ]
  },
  {
   "cell_type": "markdown",
   "id": "0563ff17",
   "metadata": {},
   "source": [
    "<font size='4'>This project aims to help Microsoft's new movie studio, to make a breakthrough in the film industry, by providing actionable insights on the types of films that are currently performing well at the box office. By understanding these trends, the head of the movie studio can make informed decisions about the type of films to create, which directors and writers to hire and  the project's insights will provide valuable information for assessing the profitability and market viability of the new movie studio. This knowledge will guide their resource allocation and investment decisions, ensuring that the studio has the necessary support and resources to thrive in the industry., maximizing their chances of success and capitalizing on high return of investment(ROI).</font>"
   ]
  },
  {
   "cell_type": "markdown",
   "id": "8bf6b056",
   "metadata": {},
   "source": [
    "## DATA UNDERSTANDING"
   ]
  },
  {
   "cell_type": "markdown",
   "id": "8313e748",
   "metadata": {},
   "source": [
    "<font size='4'>Data Source</font>"
   ]
  },
  {
   "cell_type": "code",
   "execution_count": null,
   "id": "2ed5803b",
   "metadata": {},
   "outputs": [],
   "source": [
    "The data was "
   ]
  }
 ],
 "metadata": {
  "kernelspec": {
   "display_name": "Python 3 (ipykernel)",
   "language": "python",
   "name": "python3"
  },
  "language_info": {
   "codemirror_mode": {
    "name": "ipython",
    "version": 3
   },
   "file_extension": ".py",
   "mimetype": "text/x-python",
   "name": "python",
   "nbconvert_exporter": "python",
   "pygments_lexer": "ipython3",
   "version": "3.10.7"
  }
 },
 "nbformat": 4,
 "nbformat_minor": 5
}
